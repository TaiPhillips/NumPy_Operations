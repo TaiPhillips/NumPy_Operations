{
 "cells": [
  {
   "cell_type": "markdown",
   "metadata": {},
   "source": [
    "# Numpy_Complete_Reference"
   ]
  },
  {
   "cell_type": "markdown",
   "metadata": {},
   "source": [
    "<b>1. Create 1D numpy array"
   ]
  },
  {
   "cell_type": "code",
   "execution_count": 1,
   "metadata": {},
   "outputs": [
    {
     "data": {
      "text/plain": [
       "array([1, 2, 3, 4, 5])"
      ]
     },
     "execution_count": 1,
     "metadata": {},
     "output_type": "execute_result"
    }
   ],
   "source": [
    "import numpy as np\n",
    "a = np.array([1, 2, 3, 4, 5])\n",
    "a"
   ]
  },
  {
   "cell_type": "code",
   "execution_count": 4,
   "metadata": {},
   "outputs": [
    {
     "data": {
      "text/plain": [
       "array([1, 2, 3, 4, 5])"
      ]
     },
     "execution_count": 4,
     "metadata": {},
     "output_type": "execute_result"
    }
   ],
   "source": [
    "b = np.arange(1, 6)\n",
    "b"
   ]
  },
  {
   "cell_type": "markdown",
   "metadata": {},
   "source": [
    "<b> 2. Print dimensions of the numpy array"
   ]
  },
  {
   "cell_type": "code",
   "execution_count": 5,
   "metadata": {},
   "outputs": [
    {
     "data": {
      "text/plain": [
       "1"
      ]
     },
     "execution_count": 5,
     "metadata": {},
     "output_type": "execute_result"
    }
   ],
   "source": [
    "c = np.array([1, 2, 3, 4, 5])\n",
    "c.ndim"
   ]
  },
  {
   "cell_type": "markdown",
   "metadata": {},
   "source": [
    "<b>3. Print shape of the numpy array"
   ]
  },
  {
   "cell_type": "code",
   "execution_count": 8,
   "metadata": {},
   "outputs": [
    {
     "data": {
      "text/plain": [
       "(5,)"
      ]
     },
     "execution_count": 8,
     "metadata": {},
     "output_type": "execute_result"
    }
   ],
   "source": [
    "c = np.array([1, 2, 3, 4, 5])\n",
    "c.shape"
   ]
  },
  {
   "cell_type": "markdown",
   "metadata": {},
   "source": [
    "<b>4. Create 2D array and print dimensions and shape of the array"
   ]
  },
  {
   "cell_type": "code",
   "execution_count": 9,
   "metadata": {},
   "outputs": [
    {
     "data": {
      "text/plain": [
       "array([[ 1,  2,  3,  4,  5],\n",
       "       [ 6,  7,  8,  9, 10]])"
      ]
     },
     "execution_count": 9,
     "metadata": {},
     "output_type": "execute_result"
    }
   ],
   "source": [
    "a = np.array([[1, 2, 3, 4, 5],[6, 7, 8, 9, 10]])\n",
    "a"
   ]
  },
  {
   "cell_type": "code",
   "execution_count": 10,
   "metadata": {},
   "outputs": [
    {
     "name": "stdout",
     "output_type": "stream",
     "text": [
      "Dimensions :  2\n",
      "Shape :  (2, 5)\n"
     ]
    }
   ],
   "source": [
    "print('Dimensions : ',a.ndim)\n",
    "print('Shape : ',a.shape)"
   ]
  },
  {
   "cell_type": "markdown",
   "metadata": {},
   "source": [
    "<b>5. Create 3D array and print dimensions and shape of the array"
   ]
  },
  {
   "cell_type": "code",
   "execution_count": 11,
   "metadata": {},
   "outputs": [
    {
     "name": "stdout",
     "output_type": "stream",
     "text": [
      "Dimensions :  3\n",
      "Shape :  (2, 2, 5)\n"
     ]
    }
   ],
   "source": [
    "a = np.array([[[1, 2, 3, 4, 5],[6, 7, 8, 9, 10]],[[11, 12, 13, 14, 15],[16, 17, 18, 19, 20]]])\n",
    "print('Dimensions : ', a.ndim)\n",
    "print('Shape : ', a.shape)"
   ]
  },
  {
   "cell_type": "markdown",
   "metadata": {},
   "source": [
    "<b>6. Print no. of rows or length of the numpy matrix"
   ]
  },
  {
   "cell_type": "code",
   "execution_count": 12,
   "metadata": {},
   "outputs": [
    {
     "name": "stdout",
     "output_type": "stream",
     "text": [
      "No. of rows / length of matrix :  2\n"
     ]
    }
   ],
   "source": [
    "a = np.array([[[1, 2, 3, 4, 5],[6, 7, 8, 9, 10]],[[11, 12, 13, 14, 15],[16, 17, 18, 19, 20]]])\n",
    "print('No. of rows / length of matrix : ', len(a))"
   ]
  },
  {
   "cell_type": "markdown",
   "metadata": {},
   "source": [
    "<b>7. Create a numpy array starting from 5 to 50 and step size of 3"
   ]
  },
  {
   "cell_type": "code",
   "execution_count": 13,
   "metadata": {},
   "outputs": [
    {
     "data": {
      "text/plain": [
       "array([ 5,  8, 11, 14, 17, 20, 23, 26, 29, 32, 35, 38, 41, 44, 47])"
      ]
     },
     "execution_count": 13,
     "metadata": {},
     "output_type": "execute_result"
    }
   ],
   "source": [
    "a = np.arange(5, 50, 3)\n",
    "a"
   ]
  },
  {
   "cell_type": "markdown",
   "metadata": {},
   "source": [
    "<b>8. Create numpy array in linear space, from 0 to 1 and 6 points"
   ]
  },
  {
   "cell_type": "code",
   "execution_count": 14,
   "metadata": {},
   "outputs": [
    {
     "data": {
      "text/plain": [
       "array([0. , 0.2, 0.4, 0.6, 0.8, 1. ])"
      ]
     },
     "execution_count": 14,
     "metadata": {},
     "output_type": "execute_result"
    }
   ],
   "source": [
    "a = np.linspace(0, 1, 6)\n",
    "a"
   ]
  },
  {
   "cell_type": "markdown",
   "metadata": {},
   "source": [
    "<b>9. Create numpy arrays with all values 1"
   ]
  },
  {
   "cell_type": "code",
   "execution_count": 15,
   "metadata": {},
   "outputs": [
    {
     "data": {
      "text/plain": [
       "array([[1., 1., 1.],\n",
       "       [1., 1., 1.],\n",
       "       [1., 1., 1.]])"
      ]
     },
     "execution_count": 15,
     "metadata": {},
     "output_type": "execute_result"
    }
   ],
   "source": [
    "a = np.ones((3, 3))\n",
    "a"
   ]
  },
  {
   "cell_type": "code",
   "execution_count": 16,
   "metadata": {},
   "outputs": [
    {
     "data": {
      "text/plain": [
       "array([[[1., 1.],\n",
       "        [1., 1.]],\n",
       "\n",
       "       [[1., 1.],\n",
       "        [1., 1.]]])"
      ]
     },
     "execution_count": 16,
     "metadata": {},
     "output_type": "execute_result"
    }
   ],
   "source": [
    "b = np.ones((2, 2, 2))\n",
    "b"
   ]
  },
  {
   "cell_type": "markdown",
   "metadata": {},
   "source": [
    "<b>10. Create numpy arrays with all values as zeros"
   ]
  },
  {
   "cell_type": "code",
   "execution_count": 17,
   "metadata": {},
   "outputs": [
    {
     "data": {
      "text/plain": [
       "array([[0., 0., 0.],\n",
       "       [0., 0., 0.],\n",
       "       [0., 0., 0.]])"
      ]
     },
     "execution_count": 17,
     "metadata": {},
     "output_type": "execute_result"
    }
   ],
   "source": [
    "a = np.zeros((3, 3))\n",
    "a"
   ]
  },
  {
   "cell_type": "code",
   "execution_count": 18,
   "metadata": {},
   "outputs": [
    {
     "data": {
      "text/plain": [
       "array([[[0., 0.],\n",
       "        [0., 0.]],\n",
       "\n",
       "       [[0., 0.],\n",
       "        [0., 0.]]])"
      ]
     },
     "execution_count": 18,
     "metadata": {},
     "output_type": "execute_result"
    }
   ],
   "source": [
    "b = np.zeros((2, 2, 2))\n",
    "b"
   ]
  },
  {
   "cell_type": "markdown",
   "metadata": {},
   "source": [
    "<b>11. Create identity matrices"
   ]
  },
  {
   "cell_type": "code",
   "execution_count": 19,
   "metadata": {},
   "outputs": [
    {
     "data": {
      "text/plain": [
       "array([[1., 0., 0.],\n",
       "       [0., 1., 0.],\n",
       "       [0., 0., 1.]])"
      ]
     },
     "execution_count": 19,
     "metadata": {},
     "output_type": "execute_result"
    }
   ],
   "source": [
    "a = np.eye(3) #3 no of diagonal elements\n",
    "a"
   ]
  },
  {
   "cell_type": "code",
   "execution_count": 20,
   "metadata": {},
   "outputs": [
    {
     "data": {
      "text/plain": [
       "array([[1., 0.],\n",
       "       [0., 1.],\n",
       "       [0., 0.]])"
      ]
     },
     "execution_count": 20,
     "metadata": {},
     "output_type": "execute_result"
    }
   ],
   "source": [
    "b = np.eye(3, 2) # 3 no. of rows and 2 no. of columns\n",
    "b"
   ]
  },
  {
   "cell_type": "code",
   "execution_count": 22,
   "metadata": {},
   "outputs": [
    {
     "data": {
      "text/plain": [
       "array([[1., 0., 0., 0., 0.]])"
      ]
     },
     "execution_count": 22,
     "metadata": {},
     "output_type": "execute_result"
    }
   ],
   "source": [
    "b = np.eye(1, 5) # 1 no. of rows and 5 no. of columns\n",
    "b"
   ]
  },
  {
   "cell_type": "markdown",
   "metadata": {},
   "source": [
    "<b>12. Create a matrix provided diagonal elements"
   ]
  },
  {
   "cell_type": "code",
   "execution_count": 24,
   "metadata": {},
   "outputs": [
    {
     "data": {
      "text/plain": [
       "array([[1, 0, 0, 0],\n",
       "       [0, 2, 0, 0],\n",
       "       [0, 0, 3, 0],\n",
       "       [0, 0, 0, 4]])"
      ]
     },
     "execution_count": 24,
     "metadata": {},
     "output_type": "execute_result"
    }
   ],
   "source": [
    "a = np.diag([1, 2, 3, 4]) # input is list of diagonal elements\n",
    "a"
   ]
  },
  {
   "cell_type": "code",
   "execution_count": 26,
   "metadata": {},
   "outputs": [
    {
     "data": {
      "text/plain": [
       "array([[  2,   0,   0],\n",
       "       [  0,  10,   0],\n",
       "       [  0,   0, 500]])"
      ]
     },
     "execution_count": 26,
     "metadata": {},
     "output_type": "execute_result"
    }
   ],
   "source": [
    "b = np.diag([2, 10, 500])\n",
    "b"
   ]
  },
  {
   "cell_type": "markdown",
   "metadata": {},
   "source": [
    "<b>13. Extract diagonal elements from matrices"
   ]
  },
  {
   "cell_type": "code",
   "execution_count": 33,
   "metadata": {},
   "outputs": [
    {
     "name": "stdout",
     "output_type": "stream",
     "text": [
      "[[1 0 0 0]\n",
      " [0 2 0 0]\n",
      " [0 0 3 0]\n",
      " [0 0 0 4]]\n",
      "\n",
      "\n",
      "[1 2 3 4]\n"
     ]
    }
   ],
   "source": [
    "a = np.diag([1, 2, 3, 4])\n",
    "print(a)\n",
    "print('\\n')\n",
    "print(np.diag(a))"
   ]
  },
  {
   "cell_type": "code",
   "execution_count": 35,
   "metadata": {},
   "outputs": [
    {
     "name": "stdout",
     "output_type": "stream",
     "text": [
      "[[  2   0   0]\n",
      " [  0  10   0]\n",
      " [  0   0 500]]\n",
      "\n",
      "\n",
      "[  2  10 500]\n"
     ]
    }
   ],
   "source": [
    "b = np.diag([2, 10, 500])\n",
    "print(b)\n",
    "print('\\n')\n",
    "print(np.diag(b))"
   ]
  },
  {
   "cell_type": "markdown",
   "metadata": {},
   "source": [
    "<b>14. Generate matrices with random numbers (uniform distribution)"
   ]
  },
  {
   "cell_type": "code",
   "execution_count": 36,
   "metadata": {},
   "outputs": [
    {
     "data": {
      "text/plain": [
       "array([0.54776587, 0.78806317, 0.51236099, 0.05251341])"
      ]
     },
     "execution_count": 36,
     "metadata": {},
     "output_type": "execute_result"
    }
   ],
   "source": [
    "a = np.random.rand(4)\n",
    "a"
   ]
  },
  {
   "cell_type": "code",
   "execution_count": 38,
   "metadata": {},
   "outputs": [
    {
     "data": {
      "text/plain": [
       "array([[0.30530098, 0.31643708],\n",
       "       [0.48944876, 0.22523917],\n",
       "       [0.01039548, 0.1551407 ],\n",
       "       [0.35839265, 0.57419065]])"
      ]
     },
     "execution_count": 38,
     "metadata": {},
     "output_type": "execute_result"
    }
   ],
   "source": [
    "b = np.random.rand(4, 2)\n",
    "b"
   ]
  },
  {
   "cell_type": "markdown",
   "metadata": {},
   "source": [
    "<b>15. Generate random numbers from normal distribution"
   ]
  },
  {
   "cell_type": "code",
   "execution_count": 41,
   "metadata": {},
   "outputs": [
    {
     "data": {
      "text/plain": [
       "array([-0.99993715,  0.41573644,  1.04327494, -0.51141506, -0.89002614,\n",
       "        0.46811332,  0.22464173, -1.70930578,  0.64432227,  1.3117213 ])"
      ]
     },
     "execution_count": 41,
     "metadata": {},
     "output_type": "execute_result"
    }
   ],
   "source": [
    "a = np.random.randn(10)\n",
    "a"
   ]
  },
  {
   "cell_type": "code",
   "execution_count": 40,
   "metadata": {},
   "outputs": [
    {
     "data": {
      "text/plain": [
       "array([[-1.54873591, -0.68623073],\n",
       "       [-1.85562512,  0.74270906],\n",
       "       [ 0.8270639 , -2.62277133],\n",
       "       [-0.07711489, -1.97999503]])"
      ]
     },
     "execution_count": 40,
     "metadata": {},
     "output_type": "execute_result"
    }
   ],
   "source": [
    "b = np.random.randn(4, 2)\n",
    "b"
   ]
  },
  {
   "cell_type": "markdown",
   "metadata": {},
   "source": [
    "<b>16. Find the datatype of the numpy matrix (Float, Int, Bool, String)"
   ]
  },
  {
   "cell_type": "code",
   "execution_count": 43,
   "metadata": {},
   "outputs": [
    {
     "name": "stdout",
     "output_type": "stream",
     "text": [
      "[0.32835631 0.3120526  0.35946761 0.54623568]\n",
      "\n",
      "\n",
      "Datatype :  float64\n"
     ]
    }
   ],
   "source": [
    "a = np.random.rand(4)\n",
    "print(a)\n",
    "print('\\n')\n",
    "print('Datatype : ', a.dtype)"
   ]
  },
  {
   "cell_type": "code",
   "execution_count": 49,
   "metadata": {},
   "outputs": [
    {
     "name": "stdout",
     "output_type": "stream",
     "text": [
      "[1 2 3 4 5]\n",
      "\n",
      "\n",
      "Datatype :  int32\n"
     ]
    }
   ],
   "source": [
    "d = np.array([1, 2, 3, 4, 5])\n",
    "print(d)\n",
    "print('\\n')\n",
    "print('Datatype : ', d.dtype)"
   ]
  },
  {
   "cell_type": "code",
   "execution_count": 46,
   "metadata": {},
   "outputs": [
    {
     "name": "stdout",
     "output_type": "stream",
     "text": [
      "[ True False False  True  True]\n",
      "\n",
      "\n",
      "Datatype :  bool\n"
     ]
    }
   ],
   "source": [
    "b = np.array([True, False, False, True, True])\n",
    "print(b)\n",
    "print('\\n')\n",
    "print('Datatype : ', b.dtype)"
   ]
  },
  {
   "cell_type": "code",
   "execution_count": 48,
   "metadata": {},
   "outputs": [
    {
     "name": "stdout",
     "output_type": "stream",
     "text": [
      "['ram' 'sham' 'bob' 'tim']\n",
      "\n",
      "\n",
      "Datatype :  <U4\n"
     ]
    }
   ],
   "source": [
    "c = np.array(['ram', 'sham', 'bob', 'tim'])\n",
    "print(c)\n",
    "print('\\n')\n",
    "print('Datatype : ', c.dtype)"
   ]
  },
  {
   "cell_type": "markdown",
   "metadata": {},
   "source": [
    "<b>17. Create a numpy array with different datatypes"
   ]
  },
  {
   "cell_type": "code",
   "execution_count": 44,
   "metadata": {},
   "outputs": [
    {
     "data": {
      "text/plain": [
       "array([0., 1., 2., 3., 4., 5., 6., 7., 8., 9.])"
      ]
     },
     "execution_count": 44,
     "metadata": {},
     "output_type": "execute_result"
    }
   ],
   "source": [
    "a = np.arange(10, dtype='float64')\n",
    "a"
   ]
  },
  {
   "cell_type": "code",
   "execution_count": 45,
   "metadata": {},
   "outputs": [
    {
     "data": {
      "text/plain": [
       "array([0, 1, 2, 3, 4, 5, 6, 7, 8, 9], dtype=int64)"
      ]
     },
     "execution_count": 45,
     "metadata": {},
     "output_type": "execute_result"
    }
   ],
   "source": [
    "b = np.arange(10, dtype='int64')\n",
    "b"
   ]
  },
  {
   "cell_type": "markdown",
   "metadata": {},
   "source": [
    "<b>18. Given a matrix print diagonal elements without using 'diag' function"
   ]
  },
  {
   "cell_type": "code",
   "execution_count": 51,
   "metadata": {},
   "outputs": [
    {
     "name": "stdout",
     "output_type": "stream",
     "text": [
      "[[1 0 0 0]\n",
      " [0 2 0 0]\n",
      " [0 0 3 0]\n",
      " [0 0 0 4]]\n",
      "\n",
      "\n",
      "First diagonal element :  1\n",
      "Second diagonal element :  2\n",
      "Third diagonal element :  3\n",
      "Fourth diagonal element :  4\n"
     ]
    }
   ],
   "source": [
    "a = np.diag([1, 2, 3, 4])\n",
    "print(a)\n",
    "print('\\n')\n",
    "print('First diagonal element : ', a[0, 0])\n",
    "print('Second diagonal element : ', a[1, 1])\n",
    "print('Third diagonal element : ', a[2, 2])\n",
    "print('Fourth diagonal element : ', a[3, 3])"
   ]
  },
  {
   "cell_type": "markdown",
   "metadata": {},
   "source": [
    "<b>19. Update values of diagonal elements of a matrix"
   ]
  },
  {
   "cell_type": "code",
   "execution_count": 54,
   "metadata": {},
   "outputs": [
    {
     "name": "stdout",
     "output_type": "stream",
     "text": [
      "Before updating diagonal elements : \n",
      "[[1 0 0 0 0]\n",
      " [0 2 0 0 0]\n",
      " [0 0 3 0 0]\n",
      " [0 0 0 4 0]\n",
      " [0 0 0 0 5]]\n",
      "\n",
      "\n",
      "After updating diagonal elements : \n",
      "[[10  0  0  0  0]\n",
      " [ 0 20  0  0  0]\n",
      " [ 0  0 30  0  0]\n",
      " [ 0  0  0 40  0]\n",
      " [ 0  0  0  0 50]]\n"
     ]
    }
   ],
   "source": [
    "a = np.diag([1, 2, 3, 4, 5])\n",
    "print('Before updating diagonal elements : ')\n",
    "print(a)\n",
    "print('\\n')\n",
    "a[0, 0] = 10\n",
    "a[1, 1] = 20\n",
    "a[2, 2] = 30\n",
    "a[3, 3] = 40\n",
    "a[4, 4] = 50\n",
    "print('After updating diagonal elements : ')\n",
    "print(a)"
   ]
  },
  {
   "cell_type": "markdown",
   "metadata": {},
   "source": [
    "<b>20. Given 1D array print elements starting from 2nd position till end with step size of 2 (slicing)"
   ]
  },
  {
   "cell_type": "code",
   "execution_count": 55,
   "metadata": {},
   "outputs": [
    {
     "name": "stdout",
     "output_type": "stream",
     "text": [
      "[ 0  1  2  3  4  5  6  7  8  9 10 11 12 13 14 15 16 17 18 19]\n",
      "\n",
      "\n",
      "[ 1  3  5  7  9 11 13 15 17 19]\n"
     ]
    }
   ],
   "source": [
    "a = np.arange(20)\n",
    "print(a)\n",
    "print('\\n')\n",
    "print(a[1::2])"
   ]
  },
  {
   "cell_type": "markdown",
   "metadata": {},
   "source": [
    "<b>21. Given 1D array, update sliced values with 100(Update sliced elements)"
   ]
  },
  {
   "cell_type": "code",
   "execution_count": 60,
   "metadata": {},
   "outputs": [
    {
     "name": "stdout",
     "output_type": "stream",
     "text": [
      "Given numpy array :\n",
      "[ 0  1  2  3  4  5  6  7  8  9 10 11 12 13 14 15 16 17 18 19]\n",
      "\n",
      "Before update :\n",
      "[ 1  3  5  7  9 11 13 15 17 19]\n",
      "\n",
      "After update :\n",
      "[  0 100   2 100   4 100   6 100   8 100  10 100  12 100  14 100  16 100\n",
      "  18 100]\n"
     ]
    }
   ],
   "source": [
    "a = np.arange(20)\n",
    "print('Given numpy array :')\n",
    "print(a)\n",
    "\n",
    "print('\\nBefore update :')\n",
    "print(a[1::2])\n",
    "\n",
    "a[1::2] = 100\n",
    "print('\\nAfter update :')\n",
    "print(a)"
   ]
  },
  {
   "cell_type": "markdown",
   "metadata": {},
   "source": [
    "<b>22. Given 2 matrices update values of few elements from one matrix to other matrix(Broadcasting)"
   ]
  },
  {
   "cell_type": "code",
   "execution_count": 71,
   "metadata": {},
   "outputs": [
    {
     "name": "stdout",
     "output_type": "stream",
     "text": [
      "[ 60  70  80  90 100   6   7   8   9  10]\n"
     ]
    }
   ],
   "source": [
    "# first 5 elements of matrix 'a' should be updated with last 5 elements of matrix 'b'\n",
    "a = np.array([1, 2, 3, 4, 5, 6, 7, 8, 9, 10])\n",
    "b = np.array([10, 20, 30, 40, 50, 60, 70, 80, 90, 100])\n",
    "\n",
    "a[0:5] = b[5:]\n",
    "print(a)"
   ]
  },
  {
   "cell_type": "markdown",
   "metadata": {},
   "source": [
    "<b>23. Give examples of direct copy and using copy() function. Also use of function shares_memory()"
   ]
  },
  {
   "cell_type": "code",
   "execution_count": 80,
   "metadata": {},
   "outputs": [
    {
     "name": "stdout",
     "output_type": "stream",
     "text": [
      "Both matrix shares same memory? : True\n"
     ]
    }
   ],
   "source": [
    "a = np.array([1, 2, 3, 4, 5])\n",
    "b = np.array([6, 7, 8, 9, 10])\n",
    "\n",
    "c = a[3:]\n",
    "\n",
    "print('Both matrix shares same memory? :', np.shares_memory(c, a))"
   ]
  },
  {
   "cell_type": "code",
   "execution_count": 81,
   "metadata": {},
   "outputs": [
    {
     "name": "stdout",
     "output_type": "stream",
     "text": [
      "Both matrix shares same memory? : False\n"
     ]
    }
   ],
   "source": [
    "a = np.array([1, 2, 3, 4, 5])\n",
    "b = np.array([6, 7, 8, 9, 10])\n",
    "\n",
    "c = a[3:].copy() # used copy() function to share separate memory\n",
    "\n",
    "print('Both matrix shares same memory? :', np.shares_memory(c, a))"
   ]
  },
  {
   "cell_type": "markdown",
   "metadata": {},
   "source": [
    "<b>24. Generate 15 random integers in the range 0 to 20"
   ]
  },
  {
   "cell_type": "code",
   "execution_count": 82,
   "metadata": {},
   "outputs": [
    {
     "name": "stdout",
     "output_type": "stream",
     "text": [
      "[ 4  6  6 17 10  2 16  4 13  0 12 18  7 11  5]\n"
     ]
    }
   ],
   "source": [
    "a = np.random.randint(0, 20, 15)\n",
    "print(a)"
   ]
  },
  {
   "cell_type": "markdown",
   "metadata": {},
   "source": [
    "<b>25. Given a list filter elements which are divisible by 2 using mask() function"
   ]
  },
  {
   "cell_type": "code",
   "execution_count": 83,
   "metadata": {},
   "outputs": [
    {
     "name": "stdout",
     "output_type": "stream",
     "text": [
      "[11 14  9 10 12  3  0  5  5  3 16  0 10  7 10]\n",
      "[14 10 12  0 16  0 10 10]\n"
     ]
    }
   ],
   "source": [
    "a = np.random.randint(0, 20, 15)\n",
    "print(a)\n",
    "\n",
    "mask = (a % 2 == 0)\n",
    "extract = a[mask]\n",
    "print(extract)"
   ]
  },
  {
   "cell_type": "markdown",
   "metadata": {},
   "source": [
    "<b>26. Given a list all even numbers should be updated with '-1'"
   ]
  },
  {
   "cell_type": "code",
   "execution_count": 84,
   "metadata": {},
   "outputs": [
    {
     "name": "stdout",
     "output_type": "stream",
     "text": [
      "[19  4  3 15  8 18  6  9 10  6  1 14 10  2 12]\n",
      "[19 -1  3 15 -1 -1 -1  9 -1 -1  1 -1 -1 -1 -1]\n"
     ]
    }
   ],
   "source": [
    "a = np.random.randint(0, 20, 15)\n",
    "print(a)\n",
    "\n",
    "mask = (a % 2 == 0)\n",
    "a[mask] = -1\n",
    "print(a)"
   ]
  },
  {
   "cell_type": "markdown",
   "metadata": {},
   "source": [
    "<b>27. Given a list copy few elements with indexes to other list"
   ]
  },
  {
   "cell_type": "code",
   "execution_count": 85,
   "metadata": {},
   "outputs": [
    {
     "name": "stdout",
     "output_type": "stream",
     "text": [
      "[0 1 2 3 4 5 6 7 8 9]\n",
      "\n",
      "\n",
      "[1 2 1 3 6 5]\n"
     ]
    }
   ],
   "source": [
    "a = np.arange(10)\n",
    "print(a)\n",
    "print('\\n')\n",
    "b = a[[1, 2, 1, 3, 6, 5]]\n",
    "print(b)"
   ]
  },
  {
   "cell_type": "markdown",
   "metadata": {},
   "source": [
    "<b>28. Given a list assign value to selected indexed values"
   ]
  },
  {
   "cell_type": "code",
   "execution_count": 87,
   "metadata": {},
   "outputs": [
    {
     "name": "stdout",
     "output_type": "stream",
     "text": [
      "[0 1 2 3 4 5 6 7 8 9]\n",
      "\n",
      "\n",
      "[   0 -200    2 -200    4 -200    6 -200    8    9]\n"
     ]
    }
   ],
   "source": [
    "a = np.arange(10)\n",
    "print(a)\n",
    "print('\\n')\n",
    "a[[1, 3, 5, 7]] = -200\n",
    "print(a)"
   ]
  },
  {
   "cell_type": "markdown",
   "metadata": {},
   "source": [
    "<b>29. Perform mathematical operations on all elements of array"
   ]
  },
  {
   "cell_type": "code",
   "execution_count": 95,
   "metadata": {},
   "outputs": [
    {
     "name": "stdout",
     "output_type": "stream",
     "text": [
      "[11 12 13 14 15 16 17 18 19 20]\n",
      "\n",
      "\n",
      "[ 5 10 15 20 25 30 35 40 45 50]\n",
      "\n",
      "\n",
      "[10 15 20 25 30 35 40 45 50 55]\n",
      "\n",
      "\n",
      "[  1   4   9  16  25  36  49  64  81 100]\n"
     ]
    }
   ],
   "source": [
    "a = np.array([1, 2, 3, 4, 5, 6, 7, 8, 9, 10])\n",
    "b = a + 10\n",
    "print(b)\n",
    "print('\\n')\n",
    "\n",
    "c = a * 5\n",
    "print(c)\n",
    "print('\\n')\n",
    "\n",
    "d = (a * 5) + 5\n",
    "print(d)\n",
    "print('\\n')\n",
    "\n",
    "e = a**2\n",
    "print(e)"
   ]
  },
  {
   "cell_type": "code",
   "execution_count": 96,
   "metadata": {},
   "outputs": [
    {
     "name": "stdout",
     "output_type": "stream",
     "text": [
      "[ 9 18 27 36 45]\n"
     ]
    }
   ],
   "source": [
    "a = np.array([10, 20, 30, 40, 50])\n",
    "b = np.array([1, 2, 3, 4, 5])\n",
    "\n",
    "print(a - b)"
   ]
  },
  {
   "cell_type": "code",
   "execution_count": 97,
   "metadata": {},
   "outputs": [
    {
     "data": {
      "text/plain": [
       "array([7., 7., 7., 7.])"
      ]
     },
     "execution_count": 97,
     "metadata": {},
     "output_type": "execute_result"
    }
   ],
   "source": [
    "a = np.ones(4) * 2\n",
    "b = np.zeros(4) + 5\n",
    "\n",
    "a + b"
   ]
  },
  {
   "cell_type": "code",
   "execution_count": 99,
   "metadata": {},
   "outputs": [
    {
     "name": "stdout",
     "output_type": "stream",
     "text": [
      "[[1 0 0]\n",
      " [0 2 0]\n",
      " [0 0 3]]\n",
      "\n",
      "\n",
      "[[1 0 0]\n",
      " [0 4 0]\n",
      " [0 0 9]]\n",
      "\n",
      "\n",
      "[[1 0 0]\n",
      " [0 4 0]\n",
      " [0 0 9]]\n"
     ]
    }
   ],
   "source": [
    "c = np.diag([1, 2, 3])\n",
    "print(c)\n",
    "print('\\n')\n",
    "print(c * c )\n",
    "print('\\n')\n",
    "print(c.dot(c))"
   ]
  },
  {
   "cell_type": "markdown",
   "metadata": {},
   "source": [
    "<b>30. Perform different element-wise comparison operations on two numpy arrays"
   ]
  },
  {
   "cell_type": "code",
   "execution_count": 102,
   "metadata": {},
   "outputs": [
    {
     "name": "stdout",
     "output_type": "stream",
     "text": [
      "[False False False False False]\n",
      "\n",
      "\n",
      "[ True  True False False False]\n",
      "\n",
      "\n",
      "[ True  True  True False False]\n"
     ]
    }
   ],
   "source": [
    "a = np.array([1, 2, 3, 4, 5])\n",
    "b = np.array([5, 6, 7, 2, 1])\n",
    "c = np.array([1, 2, 5, 6, 7])\n",
    "\n",
    "print(a == b)\n",
    "print('\\n')\n",
    "\n",
    "print(a == c)\n",
    "print('\\n')\n",
    "\n",
    "print(a < b)"
   ]
  },
  {
   "cell_type": "markdown",
   "metadata": {},
   "source": [
    "<b>31. Perform different array-wise comparisons"
   ]
  },
  {
   "cell_type": "code",
   "execution_count": 103,
   "metadata": {},
   "outputs": [
    {
     "name": "stdout",
     "output_type": "stream",
     "text": [
      "False\n",
      "True\n"
     ]
    }
   ],
   "source": [
    "a = np.array([1, 2, 3, 4, 5])\n",
    "b = np.array([5, 6, 7, 2, 1])\n",
    "c = np.array([1, 2, 3, 4, 5])\n",
    "\n",
    "print(np.array_equal(a, b))\n",
    "print(np.array_equal(a, c))"
   ]
  },
  {
   "cell_type": "markdown",
   "metadata": {},
   "source": [
    "<b>32. Perform few logical operations on numpy arrays"
   ]
  },
  {
   "cell_type": "code",
   "execution_count": 107,
   "metadata": {},
   "outputs": [
    {
     "name": "stdout",
     "output_type": "stream",
     "text": [
      "[ True False False False]\n",
      "\n",
      "\n",
      "[ True  True  True False]\n"
     ]
    }
   ],
   "source": [
    "a = np.array([1, 0, 1, 0], dtype=bool)\n",
    "b = np.array([1, 1, 0, 0], dtype=bool)\n",
    "\n",
    "print(np.logical_and(a, b))\n",
    "print('\\n')\n",
    "print(np.logical_or(a, b))"
   ]
  },
  {
   "cell_type": "markdown",
   "metadata": {},
   "source": [
    "<b>33. Perform 'sin', 'cos', 'exp', 'log' operations on the elements of numpy arrays"
   ]
  },
  {
   "cell_type": "code",
   "execution_count": 109,
   "metadata": {},
   "outputs": [
    {
     "name": "stdout",
     "output_type": "stream",
     "text": [
      "[0 1 2 3 4]\n",
      "\n",
      "\n",
      "[ 0.          0.84147098  0.90929743  0.14112001 -0.7568025 ]\n",
      "\n",
      "\n",
      "[ 1.          0.54030231 -0.41614684 -0.9899925  -0.65364362]\n",
      "\n",
      "\n",
      "[      -inf 0.         0.69314718 1.09861229 1.38629436]\n",
      "\n",
      "\n",
      "[ 1.          2.71828183  7.3890561  20.08553692 54.59815003]\n"
     ]
    },
    {
     "name": "stderr",
     "output_type": "stream",
     "text": [
      "C:\\Users\\shashi\\Anaconda3\\lib\\site-packages\\ipykernel_launcher.py:11: RuntimeWarning: divide by zero encountered in log\n",
      "  # This is added back by InteractiveShellApp.init_path()\n"
     ]
    }
   ],
   "source": [
    "a = np.arange(5)\n",
    "print(a)\n",
    "print('\\n')\n",
    "\n",
    "print(np.sin(a))\n",
    "print('\\n')\n",
    "\n",
    "print(np.cos(a))\n",
    "print('\\n')\n",
    "\n",
    "print(np.log(a))\n",
    "print('\\n')\n",
    "\n",
    "print(np.exp(a))"
   ]
  },
  {
   "cell_type": "markdown",
   "metadata": {},
   "source": [
    "<b>34. Perform 'sum' operation on the matrices"
   ]
  },
  {
   "cell_type": "code",
   "execution_count": 111,
   "metadata": {},
   "outputs": [
    {
     "name": "stdout",
     "output_type": "stream",
     "text": [
      "15\n",
      "15\n"
     ]
    }
   ],
   "source": [
    "a = np.array([1, 2, 3, 4, 5])\n",
    "print(np.sum(a))\n",
    "print(a.sum())"
   ]
  },
  {
   "cell_type": "code",
   "execution_count": 114,
   "metadata": {},
   "outputs": [
    {
     "name": "stdout",
     "output_type": "stream",
     "text": [
      "[[ 1  2  3  4  5]\n",
      " [ 6  7  8  9 10]]\n",
      "\n",
      "\n",
      "[ 7  9 11 13 15]\n",
      "\n",
      "\n",
      "[15 40]\n"
     ]
    }
   ],
   "source": [
    "b = np.array([[1, 2, 3, 4, 5],[6, 7, 8, 9, 10]])\n",
    "print(b)\n",
    "print('\\n')\n",
    "print(b.sum(axis=0)) #column-wise sum\n",
    "print('\\n')\n",
    "print(b.sum(axis=1)) #row-wise sum"
   ]
  },
  {
   "cell_type": "markdown",
   "metadata": {},
   "source": [
    "<b>35. Find min and max values of the arrays/matrices"
   ]
  },
  {
   "cell_type": "code",
   "execution_count": 115,
   "metadata": {},
   "outputs": [
    {
     "name": "stdout",
     "output_type": "stream",
     "text": [
      "2\n",
      "\n",
      "\n",
      "10\n"
     ]
    }
   ],
   "source": [
    "a = np.array([6, 3, 9, 10, 2, 8])\n",
    "print(a.min())\n",
    "print('\\n')\n",
    "print(a.max())"
   ]
  },
  {
   "cell_type": "code",
   "execution_count": 116,
   "metadata": {},
   "outputs": [
    {
     "name": "stdout",
     "output_type": "stream",
     "text": [
      "[[ 1  2  3  4  5]\n",
      " [ 6  7  8  9 10]]\n",
      "\n",
      "\n",
      "1\n",
      "\n",
      "\n",
      "10\n"
     ]
    }
   ],
   "source": [
    "b = np.array([[1, 2, 3, 4, 5],[6, 7, 8, 9, 10]])\n",
    "print(b)\n",
    "print('\\n')\n",
    "\n",
    "print(b.min())\n",
    "print('\\n')\n",
    "\n",
    "print(b.max())"
   ]
  },
  {
   "cell_type": "markdown",
   "metadata": {},
   "source": [
    "<b>36. Find index values of min and max values in arrays/matrices"
   ]
  },
  {
   "cell_type": "code",
   "execution_count": 118,
   "metadata": {
    "scrolled": true
   },
   "outputs": [
    {
     "name": "stdout",
     "output_type": "stream",
     "text": [
      "4\n",
      "\n",
      "\n",
      "3\n"
     ]
    }
   ],
   "source": [
    "a = np.array([6, 3, 9, 10, 2, 8])\n",
    "print(a.argmin())\n",
    "print('\\n')\n",
    "print(a.argmax())"
   ]
  },
  {
   "cell_type": "code",
   "execution_count": 119,
   "metadata": {},
   "outputs": [
    {
     "name": "stdout",
     "output_type": "stream",
     "text": [
      "[[ 1  2  3  4  5]\n",
      " [ 6  7  8  9 10]]\n",
      "\n",
      "\n",
      "0\n",
      "\n",
      "\n",
      "9\n"
     ]
    }
   ],
   "source": [
    "b = np.array([[1, 2, 3, 4, 5],[6, 7, 8, 9, 10]])\n",
    "print(b)\n",
    "print('\\n')\n",
    "\n",
    "print(b.argmin())\n",
    "print('\\n')\n",
    "\n",
    "print(b.argmax())"
   ]
  },
  {
   "cell_type": "markdown",
   "metadata": {},
   "source": [
    "<b>37. Perform logical 'all' and 'any' operations on arrays"
   ]
  },
  {
   "cell_type": "code",
   "execution_count": 120,
   "metadata": {},
   "outputs": [
    {
     "name": "stdout",
     "output_type": "stream",
     "text": [
      "False\n",
      "\n",
      "\n",
      "True\n",
      "\n",
      "\n",
      "True\n",
      "\n",
      "\n"
     ]
    }
   ],
   "source": [
    "a = np.array([True, False, True, False])\n",
    "b = np.array([True, True, True, True])\n",
    "\n",
    "print(np.all(a))\n",
    "print('\\n')\n",
    "\n",
    "print(np.any(a))\n",
    "print('\\n')\n",
    "\n",
    "print(np.all(b))\n",
    "print('\\n')"
   ]
  },
  {
   "cell_type": "code",
   "execution_count": 121,
   "metadata": {},
   "outputs": [
    {
     "name": "stdout",
     "output_type": "stream",
     "text": [
      "False\n",
      "\n",
      "\n",
      "True\n",
      "\n",
      "\n",
      "True\n",
      "\n",
      "\n"
     ]
    }
   ],
   "source": [
    "c = np.array([1, 0, 1, 1])\n",
    "d = np.array([1, 1, 1, 1])\n",
    "\n",
    "print(np.all(c))\n",
    "print('\\n')\n",
    "\n",
    "print(np.any(c))\n",
    "print('\\n')\n",
    "\n",
    "print(np.all(d))\n",
    "print('\\n')"
   ]
  },
  {
   "cell_type": "code",
   "execution_count": 123,
   "metadata": {},
   "outputs": [
    {
     "name": "stdout",
     "output_type": "stream",
     "text": [
      "[[0. 0. 0. 0. 0.]\n",
      " [0. 0. 0. 0. 0.]\n",
      " [0. 0. 0. 0. 0.]\n",
      " [0. 0. 0. 0. 0.]\n",
      " [0. 0. 0. 0. 0.]]\n",
      "\n",
      "\n",
      "False\n"
     ]
    }
   ],
   "source": [
    "a = np.zeros((5, 5))\n",
    "print(a)\n",
    "print('\\n')\n",
    "\n",
    "print(np.any(a != 0))"
   ]
  },
  {
   "cell_type": "code",
   "execution_count": 124,
   "metadata": {},
   "outputs": [
    {
     "name": "stdout",
     "output_type": "stream",
     "text": [
      "[[11. 11. 11. 11. 11.]\n",
      " [11. 11. 11. 11. 11.]\n",
      " [11. 11. 11. 11. 11.]\n",
      " [11. 11. 11. 11. 11.]\n",
      " [11. 11. 11. 11. 11.]]\n",
      "\n",
      "\n",
      "True\n"
     ]
    }
   ],
   "source": [
    "a = np.ones((5, 5)) + 10\n",
    "print(a)\n",
    "print('\\n')\n",
    "\n",
    "print(np.all(a > 10))"
   ]
  },
  {
   "cell_type": "code",
   "execution_count": 126,
   "metadata": {},
   "outputs": [
    {
     "name": "stdout",
     "output_type": "stream",
     "text": [
      "True\n"
     ]
    }
   ],
   "source": [
    "c = np.array([1, 2, 3, 4, 5])\n",
    "print(np.all(a == a))"
   ]
  },
  {
   "cell_type": "code",
   "execution_count": 128,
   "metadata": {},
   "outputs": [
    {
     "data": {
      "text/plain": [
       "True"
      ]
     },
     "execution_count": 128,
     "metadata": {},
     "output_type": "execute_result"
    }
   ],
   "source": [
    "a = np.array([1, 2, 3, 2])\n",
    "b = np.array([2, 2, 3, 2])\n",
    "c = np.array([6, 4, 4, 5])\n",
    "\n",
    "((a <= b) & (b <= c)).all()"
   ]
  },
  {
   "cell_type": "markdown",
   "metadata": {},
   "source": [
    "<b>38. Find out 'mean', 'median', 'std dev' of elements of arrays/matrices"
   ]
  },
  {
   "cell_type": "code",
   "execution_count": 134,
   "metadata": {},
   "outputs": [
    {
     "name": "stdout",
     "output_type": "stream",
     "text": [
      "[1 2 3 4 5]\n",
      "\n",
      "\n",
      "[[ 1  2  3  4  5]\n",
      " [ 6  7  8  9 10]]\n",
      "\n",
      "\n",
      "3.0\n",
      "5.5\n",
      "\n",
      "\n",
      "3.0\n",
      "5.5\n",
      "\n",
      "\n",
      "3.0\n",
      "5.5\n",
      "\n",
      "\n",
      "1.4142135623730951\n",
      "2.8722813232690143\n"
     ]
    }
   ],
   "source": [
    "a = np.array([1, 2, 3, 4, 5])\n",
    "b = np.array([[1, 2, 3, 4, 5],[6, 7, 8, 9, 10]])\n",
    "\n",
    "print(a)\n",
    "print('\\n')\n",
    "print(b)\n",
    "print('\\n')\n",
    "\n",
    "print(a.mean())\n",
    "print(b.mean())\n",
    "print('\\n')\n",
    "\n",
    "print(np.mean(a))  # alternate way for mean()\n",
    "print(np.mean(b))\n",
    "print('\\n')\n",
    "\n",
    "print(np.median(a))\n",
    "print(np.median(b))\n",
    "print('\\n')\n",
    "\n",
    "print(a.std())\n",
    "print(b.std())"
   ]
  },
  {
   "cell_type": "code",
   "execution_count": 136,
   "metadata": {},
   "outputs": [
    {
     "name": "stdout",
     "output_type": "stream",
     "text": [
      "[[ 1  2  3  4  5]\n",
      " [ 6  7  8  9 10]]\n",
      "\n",
      "\n",
      "[3.5 4.5 5.5 6.5 7.5]\n",
      "[3. 8.]\n"
     ]
    }
   ],
   "source": [
    "a = np.array([[1, 2, 3, 4, 5],[6, 7, 8, 9, 10]])\n",
    "print(a)\n",
    "print('\\n')\n",
    "\n",
    "print(np.median(a, axis=0)) #column-wise median\n",
    "print(np.median(a, axis=1)) #row-wise median"
   ]
  },
  {
   "cell_type": "markdown",
   "metadata": {},
   "source": [
    "<b>39. Create a sparse matrix"
   ]
  },
  {
   "cell_type": "code",
   "execution_count": 140,
   "metadata": {},
   "outputs": [
    {
     "name": "stdout",
     "output_type": "stream",
     "text": [
      "[[1 0 0 2 0]\n",
      " [0 4 0 0 0]]\n",
      "\n",
      "\n",
      "  (0, 0)\t1\n",
      "  (0, 3)\t2\n",
      "  (1, 1)\t4\n"
     ]
    }
   ],
   "source": [
    "from scipy import sparse\n",
    "a = np.array([[1, 0, 0, 2, 0],[0, 4, 0, 0, 0]])\n",
    "print(a)\n",
    "print('\\n')\n",
    "sp = sparse.csr_matrix(a)  # csr -> compressed sparse row\n",
    "print(sp)"
   ]
  },
  {
   "cell_type": "markdown",
   "metadata": {},
   "source": [
    "<b>40. Reshape given matrix"
   ]
  },
  {
   "cell_type": "code",
   "execution_count": 146,
   "metadata": {},
   "outputs": [
    {
     "name": "stdout",
     "output_type": "stream",
     "text": [
      "[[ 1  2  3  4  5]\n",
      " [ 6  7  8  9 10]\n",
      " [11 12 13 14 15]\n",
      " [16 17 18 19 20]]\n",
      "\n",
      "\n",
      "[[ 1  2]\n",
      " [ 3  4]\n",
      " [ 5  6]\n",
      " [ 7  8]\n",
      " [ 9 10]\n",
      " [11 12]\n",
      " [13 14]\n",
      " [15 16]\n",
      " [17 18]\n",
      " [19 20]]\n",
      "\n",
      "\n",
      "[[ 1  2  3  4  5  6  7  8  9 10]\n",
      " [11 12 13 14 15 16 17 18 19 20]]\n",
      "\n",
      "\n",
      "[[ 1  2  3  4  5]\n",
      " [ 6  7  8  9 10]\n",
      " [11 12 13 14 15]\n",
      " [16 17 18 19 20]]\n"
     ]
    }
   ],
   "source": [
    "a = np.array([[1, 2, 3, 4, 5],[6, 7, 8, 9, 10], [11, 12, 13, 14, 15], [16, 17, 18, 19, 20]])\n",
    "print(a)\n",
    "print('\\n')\n",
    "\n",
    "b = a.reshape(10, 2)\n",
    "print(b)\n",
    "print('\\n')\n",
    "\n",
    "c = a.reshape(2, 10)\n",
    "print(c)\n",
    "print('\\n')\n",
    "\n",
    "d = a.reshape(4, 5)\n",
    "print(d)"
   ]
  },
  {
   "cell_type": "code",
   "execution_count": 148,
   "metadata": {},
   "outputs": [
    {
     "name": "stdout",
     "output_type": "stream",
     "text": [
      "[[ 1  2  3  4  5]\n",
      " [ 6  7  8  9 10]\n",
      " [11 12 13 14 15]\n",
      " [16 17 18 19 20]]\n",
      "\n",
      "\n",
      "[[ 1  2  3  4  5  6  7  8  9 10]\n",
      " [11 12 13 14 15 16 17 18 19 20]]\n",
      "\n",
      "\n",
      "[[ 1  2]\n",
      " [ 3  4]\n",
      " [ 5  6]\n",
      " [ 7  8]\n",
      " [ 9 10]\n",
      " [11 12]\n",
      " [13 14]\n",
      " [15 16]\n",
      " [17 18]\n",
      " [19 20]]\n"
     ]
    }
   ],
   "source": [
    "a = np.array([[1, 2, 3, 4, 5],[6, 7, 8, 9, 10], [11, 12, 13, 14, 15], [16, 17, 18, 19, 20]])\n",
    "print(a)\n",
    "print('\\n')\n",
    "\n",
    "b = a.reshape(2, -1) # 2 columns and as many as columns needed\n",
    "print(b)\n",
    "print('\\n')\n",
    "\n",
    "c = a.reshape(-1, 2)  # 2 rows and as many as columns needed\n",
    "print(c)"
   ]
  },
  {
   "cell_type": "markdown",
   "metadata": {},
   "source": [
    "<b>41. Transpose a vector/matrix"
   ]
  },
  {
   "cell_type": "markdown",
   "metadata": {},
   "source": [
    "Transpose operation in linear algebra is, where the column and row indices of each elements are swapped."
   ]
  },
  {
   "cell_type": "code",
   "execution_count": 150,
   "metadata": {},
   "outputs": [
    {
     "name": "stdout",
     "output_type": "stream",
     "text": [
      "Before transpose : \n",
      "[[1 2 3 4 5 6]]\n",
      "\n",
      "\n",
      "After transpose : \n",
      "[[1]\n",
      " [2]\n",
      " [3]\n",
      " [4]\n",
      " [5]\n",
      " [6]]\n"
     ]
    }
   ],
   "source": [
    "a = np.array([[1, 2, 3, 4, 5, 6]])\n",
    "print('Before transpose : ')\n",
    "print(a)\n",
    "print('\\n')\n",
    "\n",
    "print('After transpose : ')\n",
    "print(a.T)"
   ]
  },
  {
   "cell_type": "markdown",
   "metadata": {},
   "source": [
    "<b>42. Flatten matrix or transform into 1D array"
   ]
  },
  {
   "cell_type": "code",
   "execution_count": 152,
   "metadata": {},
   "outputs": [
    {
     "name": "stdout",
     "output_type": "stream",
     "text": [
      "[[ 1  2  3  4  5]\n",
      " [ 6  7  8  9 10]]\n",
      "\n",
      "\n",
      "[ 1  2  3  4  5  6  7  8  9 10]\n"
     ]
    }
   ],
   "source": [
    "a = np.array([[1, 2, 3, 4, 5],[6, 7, 8, 9, 10]])\n",
    "print(a)\n",
    "print('\\n')\n",
    "\n",
    "print(a.flatten())"
   ]
  },
  {
   "cell_type": "markdown",
   "metadata": {},
   "source": [
    "<b>43. Find the rank of the matrix"
   ]
  },
  {
   "cell_type": "code",
   "execution_count": 154,
   "metadata": {},
   "outputs": [
    {
     "name": "stdout",
     "output_type": "stream",
     "text": [
      "[[ 1  2  3  4  5]\n",
      " [ 6  7  8  9 10]\n",
      " [11 22 33 44 55]]\n",
      "\n",
      "\n",
      "2\n"
     ]
    }
   ],
   "source": [
    "a = np.array([[1, 2, 3, 4, 5],[6, 7, 8, 9, 10], [11, 22, 33, 44, 55]])\n",
    "print(a)\n",
    "print('\\n')\n",
    "\n",
    "print(np.linalg.matrix_rank(a))"
   ]
  },
  {
   "cell_type": "markdown",
   "metadata": {},
   "source": [
    "<b>44. Find the determinant of the matrix"
   ]
  },
  {
   "cell_type": "code",
   "execution_count": 156,
   "metadata": {},
   "outputs": [
    {
     "name": "stdout",
     "output_type": "stream",
     "text": [
      "[[ 1  2  3]\n",
      " [ 6  7  8]\n",
      " [11 22 33]]\n",
      "\n",
      "\n",
      "1.526556658859582e-15\n"
     ]
    }
   ],
   "source": [
    "a = np.array([[1, 2, 3],[6, 7, 8], [11, 22, 33]])\n",
    "print(a)\n",
    "print('\\n')\n",
    "\n",
    "print(np.linalg.det(a))"
   ]
  },
  {
   "cell_type": "markdown",
   "metadata": {},
   "source": [
    "<b>45. Calculate trace of the matrix"
   ]
  },
  {
   "cell_type": "markdown",
   "metadata": {},
   "source": [
    "Trace : Sum of diagonal elements of the matrix"
   ]
  },
  {
   "cell_type": "code",
   "execution_count": 157,
   "metadata": {},
   "outputs": [
    {
     "name": "stdout",
     "output_type": "stream",
     "text": [
      "[[ 1  2  3]\n",
      " [ 6  7  8]\n",
      " [11 22 33]]\n",
      "\n",
      "\n",
      "41\n"
     ]
    }
   ],
   "source": [
    "a = np.array([[1, 2, 3],[6, 7, 8], [11, 22, 33]])\n",
    "print(a)\n",
    "print('\\n')\n",
    "\n",
    "print(a.trace())"
   ]
  },
  {
   "cell_type": "markdown",
   "metadata": {},
   "source": [
    "<b>46. Find Eigen values and Eigen vectors of any matrix"
   ]
  },
  {
   "cell_type": "code",
   "execution_count": 158,
   "metadata": {},
   "outputs": [
    {
     "name": "stdout",
     "output_type": "stream",
     "text": [
      "[[ 1  2  3]\n",
      " [ 6  7  8]\n",
      " [11 22 33]]\n",
      "\n",
      "\n",
      "Eigen values :  [ 3.97418814e+01 -4.47523611e-16  1.25811860e+00]\n",
      "\n",
      "\n",
      "Eigen vactors :  [[-0.08762418 -0.40824829  0.05063647]\n",
      " [-0.25156383  0.81649658 -0.82896662]\n",
      " [-0.96386599 -0.40824829  0.55700115]]\n"
     ]
    }
   ],
   "source": [
    "a = np.array([[1, 2, 3],[6, 7, 8], [11, 22, 33]])\n",
    "print(a)\n",
    "print('\\n')\n",
    "\n",
    "eigenvalues, eigenvectors = np.linalg.eig(a)\n",
    "print('Eigen values : ', eigenvalues)\n",
    "print('\\n')\n",
    "\n",
    "print('Eigen vactors : ', eigenvectors)"
   ]
  },
  {
   "cell_type": "markdown",
   "metadata": {},
   "source": [
    "<b>47. Invert a given matrix"
   ]
  },
  {
   "cell_type": "code",
   "execution_count": 159,
   "metadata": {},
   "outputs": [
    {
     "name": "stdout",
     "output_type": "stream",
     "text": [
      "[[ 1  2  3]\n",
      " [ 6  7  8]\n",
      " [11 22 33]]\n",
      "\n",
      "\n",
      "[[ 3.60287970e+16  8.07434927e-17 -3.27534518e+15]\n",
      " [-7.20575940e+16  6.00000000e-01  6.55069037e+15]\n",
      " [ 3.60287970e+16 -4.00000000e-01 -3.27534518e+15]]\n"
     ]
    }
   ],
   "source": [
    "a = np.array([[1, 2, 3],[6, 7, 8], [11, 22, 33]])\n",
    "print(a)\n",
    "print('\\n')\n",
    "\n",
    "print(np.linalg.inv(a))"
   ]
  },
  {
   "cell_type": "markdown",
   "metadata": {},
   "source": [
    "<b>48. Load text file 'populations.txt' and perform below operations,"
   ]
  },
  {
   "cell_type": "markdown",
   "metadata": {},
   "source": [
    "1. Load text file 'populations.txt' using numpy\n",
    "2. Discard year column\n",
    "3. Find column-wise mean, std-dev\n",
    "4. Which specis has highest populationeach year?"
   ]
  },
  {
   "cell_type": "code",
   "execution_count": 161,
   "metadata": {},
   "outputs": [
    {
     "data": {
      "text/plain": [
       "array([[ 1900., 30000.,  4000., 48300.],\n",
       "       [ 1901., 47200.,  6100., 48200.],\n",
       "       [ 1902., 70200.,  9800., 41500.],\n",
       "       [ 1903., 77400., 35200., 38200.],\n",
       "       [ 1904., 36300., 59400., 40600.],\n",
       "       [ 1905., 20600., 41700., 39800.],\n",
       "       [ 1906., 18100., 19000., 38600.],\n",
       "       [ 1907., 21400., 13000., 42300.],\n",
       "       [ 1908., 22000.,  8300., 44500.],\n",
       "       [ 1909., 25400.,  9100., 42100.],\n",
       "       [ 1910., 27100.,  7400., 46000.],\n",
       "       [ 1911., 40300.,  8000., 46800.],\n",
       "       [ 1912., 57000., 12300., 43800.],\n",
       "       [ 1913., 76600., 19500., 40900.],\n",
       "       [ 1914., 52300., 45700., 39400.],\n",
       "       [ 1915., 19500., 51100., 39000.],\n",
       "       [ 1916., 11200., 29700., 36700.],\n",
       "       [ 1917.,  7600., 15800., 41800.],\n",
       "       [ 1918., 14600.,  9700., 43300.],\n",
       "       [ 1919., 16200., 10100., 41300.],\n",
       "       [ 1920., 24700.,  8600., 47300.]])"
      ]
     },
     "execution_count": 161,
     "metadata": {},
     "output_type": "execute_result"
    }
   ],
   "source": [
    "# Load text file 'populations.txt' using numpy\n",
    "\n",
    "data = np.loadtxt('populations.txt')\n",
    "data"
   ]
  },
  {
   "cell_type": "code",
   "execution_count": 163,
   "metadata": {},
   "outputs": [
    {
     "name": "stdout",
     "output_type": "stream",
     "text": [
      "Year : \n",
      "[1900. 1901. 1902. 1903. 1904. 1905. 1906. 1907. 1908. 1909. 1910. 1911.\n",
      " 1912. 1913. 1914. 1915. 1916. 1917. 1918. 1919. 1920.]\n",
      "\n",
      "\n",
      "Hare : \n",
      "[30000. 47200. 70200. 77400. 36300. 20600. 18100. 21400. 22000. 25400.\n",
      " 27100. 40300. 57000. 76600. 52300. 19500. 11200.  7600. 14600. 16200.\n",
      " 24700.]\n",
      "\n",
      "\n",
      "Lynx : \n",
      "[ 4000.  6100.  9800. 35200. 59400. 41700. 19000. 13000.  8300.  9100.\n",
      "  7400.  8000. 12300. 19500. 45700. 51100. 29700. 15800.  9700. 10100.\n",
      "  8600.]\n",
      "\n",
      "\n",
      "Carrot : \n",
      "[48300. 48200. 41500. 38200. 40600. 39800. 38600. 42300. 44500. 42100.\n",
      " 46000. 46800. 43800. 40900. 39400. 39000. 36700. 41800. 43300. 41300.\n",
      " 47300.]\n"
     ]
    }
   ],
   "source": [
    "# store values to corresponding variable\n",
    "year, hare, lynx, carrot = data.T\n",
    "print('Year : ')\n",
    "print(year)\n",
    "print('\\n')\n",
    "\n",
    "print('Hare : ')\n",
    "print(hare)\n",
    "print('\\n')\n",
    "\n",
    "print('Lynx : ')\n",
    "print(lynx)\n",
    "print('\\n')\n",
    "\n",
    "print('Carrot : ')\n",
    "print(carrot)"
   ]
  },
  {
   "cell_type": "code",
   "execution_count": 164,
   "metadata": {},
   "outputs": [
    {
     "data": {
      "text/plain": [
       "array([[30000.,  4000., 48300.],\n",
       "       [47200.,  6100., 48200.],\n",
       "       [70200.,  9800., 41500.],\n",
       "       [77400., 35200., 38200.],\n",
       "       [36300., 59400., 40600.],\n",
       "       [20600., 41700., 39800.],\n",
       "       [18100., 19000., 38600.],\n",
       "       [21400., 13000., 42300.],\n",
       "       [22000.,  8300., 44500.],\n",
       "       [25400.,  9100., 42100.],\n",
       "       [27100.,  7400., 46000.],\n",
       "       [40300.,  8000., 46800.],\n",
       "       [57000., 12300., 43800.],\n",
       "       [76600., 19500., 40900.],\n",
       "       [52300., 45700., 39400.],\n",
       "       [19500., 51100., 39000.],\n",
       "       [11200., 29700., 36700.],\n",
       "       [ 7600., 15800., 41800.],\n",
       "       [14600.,  9700., 43300.],\n",
       "       [16200., 10100., 41300.],\n",
       "       [24700.,  8600., 47300.]])"
      ]
     },
     "execution_count": 164,
     "metadata": {},
     "output_type": "execute_result"
    }
   ],
   "source": [
    "# Discard 'year' column\n",
    "populations = data[:, 1:]\n",
    "populations"
   ]
  },
  {
   "cell_type": "code",
   "execution_count": 168,
   "metadata": {},
   "outputs": [
    {
     "data": {
      "text/plain": [
       "array([34080.95238095, 20166.66666667, 42400.        ])"
      ]
     },
     "execution_count": 168,
     "metadata": {},
     "output_type": "execute_result"
    }
   ],
   "source": [
    "# Find 'mean' of each column\n",
    "populations.mean(axis=0)  # axis=0, means column-wise"
   ]
  },
  {
   "cell_type": "code",
   "execution_count": 169,
   "metadata": {},
   "outputs": [
    {
     "data": {
      "text/plain": [
       "array([20897.90645809, 16254.59153691,  3322.50622558])"
      ]
     },
     "execution_count": 169,
     "metadata": {},
     "output_type": "execute_result"
    }
   ],
   "source": [
    "# Find 'standard deviation' of each column\n",
    "populations.std(axis=0)"
   ]
  },
  {
   "cell_type": "code",
   "execution_count": 171,
   "metadata": {},
   "outputs": [
    {
     "data": {
      "text/plain": [
       "array([2, 2, 0, 0, 1, 1, 2, 2, 2, 2, 2, 2, 0, 0, 0, 1, 2, 2, 2, 2, 2],\n",
       "      dtype=int64)"
      ]
     },
     "execution_count": 171,
     "metadata": {},
     "output_type": "execute_result"
    }
   ],
   "source": [
    "# Which specis has highest populationeach year?\n",
    "np.argmax(populations, axis=1)  # axis=1, means row-wise operation"
   ]
  }
 ],
 "metadata": {
  "kernelspec": {
   "display_name": "Python 3",
   "language": "python",
   "name": "python3"
  },
  "language_info": {
   "codemirror_mode": {
    "name": "ipython",
    "version": 3
   },
   "file_extension": ".py",
   "mimetype": "text/x-python",
   "name": "python",
   "nbconvert_exporter": "python",
   "pygments_lexer": "ipython3",
   "version": "3.7.4"
  }
 },
 "nbformat": 4,
 "nbformat_minor": 2
}
